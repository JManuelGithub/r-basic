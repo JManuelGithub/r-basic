{
 "cells": [
  {
   "cell_type": "markdown",
   "id": "8c36a9ad",
   "metadata": {},
   "source": [
    "# Tarea 5"
   ]
  },
  {
   "cell_type": "markdown",
   "id": "c9215ffd",
   "metadata": {},
   "source": [
    "## Pregunta 1"
   ]
  },
  {
   "cell_type": "code",
   "execution_count": 2,
   "id": "b620660a",
   "metadata": {},
   "outputs": [],
   "source": [
    "import math"
   ]
  },
  {
   "cell_type": "code",
   "execution_count": 6,
   "id": "ba1b12d0",
   "metadata": {},
   "outputs": [
    {
     "data": {
      "text/plain": [
       "(-1.0, -1.0)"
      ]
     },
     "execution_count": 6,
     "metadata": {},
     "output_type": "execute_result"
    }
   ],
   "source": [
    "def ecuaciongrado2(A,B,C):\n",
    "    x1=(-B+math.sqrt(B**2-4*A*C))/(2*A)\n",
    "    x2=(-B-math.sqrt(B**2-4*A*C))/(2*A)\n",
    "    return (x1,x2)\n",
    "ecuaciongrado2(1,2,1)"
   ]
  },
  {
   "cell_type": "markdown",
   "id": "1bb7f287",
   "metadata": {},
   "source": [
    "## Pregunta 2"
   ]
  },
  {
   "cell_type": "code",
   "execution_count": 47,
   "id": "c063e50a",
   "metadata": {},
   "outputs": [
    {
     "data": {
      "text/plain": [
       "True"
      ]
     },
     "execution_count": 47,
     "metadata": {},
     "output_type": "execute_result"
    }
   ],
   "source": [
    "def isPalindrome(string):\n",
    "    string=string.lower()\n",
    "    string=string.replace(\" \",\"\")\n",
    "    \n",
    "    for i in range(0, int(len(string)/2)):\n",
    "        if string[i] != string[len(string)-i-1]:\n",
    "            return False\n",
    "    return True\n",
    "isPalindrome(\"La ruta nos aporto otro paso natural\")"
   ]
  },
  {
   "cell_type": "markdown",
   "id": "8f21d799",
   "metadata": {},
   "source": [
    "## Pregunta 3"
   ]
  },
  {
   "cell_type": "code",
   "execution_count": 51,
   "id": "ff8043f4",
   "metadata": {},
   "outputs": [
    {
     "data": {
      "text/plain": [
       "{1: 1.0,\n",
       " 2: 1.4142135623730951,\n",
       " 3: 1.7320508075688772,\n",
       " 4: 2.0,\n",
       " 5: 2.23606797749979,\n",
       " 6: 2.449489742783178,\n",
       " 7: 2.6457513110645907,\n",
       " 8: 2.8284271247461903,\n",
       " 9: 3.0,\n",
       " 10: 3.1622776601683795}"
      ]
     },
     "execution_count": 51,
     "metadata": {},
     "output_type": "execute_result"
    }
   ],
   "source": [
    "d={1:math.sqrt(1),2:math.sqrt(2),3:math.sqrt(3),4:math.sqrt(4),5:math.sqrt(5),\n",
    "   6:math.sqrt(6),7:math.sqrt(7),8:math.sqrt(8),9:math.sqrt(9),10:math.sqrt(10)}"
   ]
  },
  {
   "cell_type": "code",
   "execution_count": 166,
   "id": "71a5ae3d",
   "metadata": {},
   "outputs": [
    {
     "data": {
      "text/plain": [
       "{1: 1.0,\n",
       " 2: 1.4142135623730951,\n",
       " 3: 1.7320508075688772,\n",
       " 4: 2.0,\n",
       " 5: 2.23606797749979,\n",
       " 6: 2.449489742783178,\n",
       " 7: 2.6457513110645907,\n",
       " 8: 2.8284271247461903,\n",
       " 9: 3.0,\n",
       " 10: 3.1622776601683795}"
      ]
     },
     "execution_count": 166,
     "metadata": {},
     "output_type": "execute_result"
    }
   ],
   "source": [
    "d = {}\n",
    "for i in range(1, 11):\n",
    "    d[i] = math.sqrt(i)\n",
    "d"
   ]
  },
  {
   "cell_type": "markdown",
   "id": "c935e4e0",
   "metadata": {},
   "source": [
    "## Pregunta 4"
   ]
  },
  {
   "cell_type": "code",
   "execution_count": 76,
   "id": "829445d1",
   "metadata": {},
   "outputs": [
    {
     "name": "stdout",
     "output_type": "stream",
     "text": [
      "['.---', '---', '...', '.', ' ', '--', '.-', '-.', '..-', '.', '.-..']\n"
     ]
    }
   ],
   "source": [
    "def cast2morse(s):\n",
    "    s=s.upper()\n",
    "    alpha=[chr(i) for i in range(ord('A'),ord('Z')+1)]\n",
    "    alpha.append(\" \")\n",
    "    morse=['.-', '-...', '-.-,', '-..', \n",
    "           '.', '..-.', '--.', '....', '..', \n",
    "           '.---', '-.-', '.-..', '--', '-.', \n",
    "           '---', '.--.', '--.-', '.-.', '...',\n",
    "           '-', '..-', '...-', '.--', '-..-', '-.--', '--..',\" \"]\n",
    "    dic = dict(zip(alpha,morse))\n",
    "    mensaje=[]\n",
    "    for j in s:\n",
    "        mensaje.append(dic[j])\n",
    "    print(mensaje)\n",
    "cast2morse(\"jose manuel\")"
   ]
  },
  {
   "cell_type": "markdown",
   "id": "67963601",
   "metadata": {},
   "source": [
    "## Pregunta 5"
   ]
  },
  {
   "cell_type": "code",
   "execution_count": 78,
   "id": "bd6cf4b9",
   "metadata": {},
   "outputs": [
    {
     "name": "stdout",
     "output_type": "stream",
     "text": [
      "Las claves de d son: \n",
      "dict_keys([1, 2, 3, 4, 5, 6, 7, 8, 9, 10])\n",
      "Las claves de dic son: \n",
      "dict_keys(['A', 'B', 'C', 'D', 'E', 'F', 'G', 'H', 'I', 'J', 'K', 'L', 'M', 'N', 'O', 'P', 'Q', 'R', 'S', 'T', 'U', 'V', 'W', 'X', 'Y', 'Z', ' '])\n"
     ]
    }
   ],
   "source": [
    "d={1:math.sqrt(1),2:math.sqrt(2),3:math.sqrt(3),4:math.sqrt(4),5:math.sqrt(5),\n",
    "   6:math.sqrt(6),7:math.sqrt(7),8:math.sqrt(8),9:math.sqrt(9),10:math.sqrt(10)}\n",
    "alpha=[chr(i) for i in range(ord('A'),ord('Z')+1)]\n",
    "alpha.append(\" \")\n",
    "morse=['.-', '-...', '-.-,', '-..', \n",
    "           '.', '..-.', '--.', '....', '..', \n",
    "           '.---', '-.-', '.-..', '--', '-.', \n",
    "           '---', '.--.', '--.-', '.-.', '...',\n",
    "           '-', '..-', '...-', '.--', '-..-', '-.--', '--..',\" \"]\n",
    "dic = dict(zip(alpha,morse))\n",
    "print(\"Las claves de d son: \")\n",
    "print(d.keys())\n",
    "print(\"Las claves de dic son: \")\n",
    "print(dic.keys())"
   ]
  },
  {
   "cell_type": "markdown",
   "id": "7b0be6fc",
   "metadata": {},
   "source": [
    "## Pregunta 6"
   ]
  },
  {
   "cell_type": "code",
   "execution_count": 99,
   "id": "eea8cf1d",
   "metadata": {},
   "outputs": [
    {
     "data": {
      "text/plain": [
       "True"
      ]
     },
     "execution_count": 99,
     "metadata": {},
     "output_type": "execute_result"
    }
   ],
   "source": [
    "def isimpar(x):\n",
    "    for i in range(2,x):\n",
    "        if (x%i==0):\n",
    "            return False\n",
    "    return True\n",
    "isimpar(19)"
   ]
  },
  {
   "cell_type": "markdown",
   "id": "df813d95",
   "metadata": {},
   "source": [
    "## Pregunta 7"
   ]
  },
  {
   "cell_type": "code",
   "execution_count": 122,
   "id": "2e57a373",
   "metadata": {},
   "outputs": [
    {
     "data": {
      "text/plain": [
       "'Este Asunto Es Importante'"
      ]
     },
     "execution_count": 122,
     "metadata": {},
     "output_type": "execute_result"
    }
   ],
   "source": [
    "def capital(s):\n",
    "    return s.capitalize()\n",
    "def capitalfrase(s):\n",
    "    words=[]\n",
    "    w=\"\"\n",
    "    l=s.split()\n",
    "    for i in l:\n",
    "        words.append(capital(i))\n",
    "    for i in words:\n",
    "        w+=i+\" \"\n",
    "    w=w.rstrip()\n",
    "    return w\n",
    "capitalfrase(\"este asunto es importante\")"
   ]
  },
  {
   "cell_type": "markdown",
   "id": "020eb10b",
   "metadata": {},
   "source": [
    "## Pregunta 8"
   ]
  },
  {
   "cell_type": "code",
   "execution_count": 126,
   "id": "5fd9af30",
   "metadata": {},
   "outputs": [
    {
     "data": {
      "text/plain": [
       "6"
      ]
     },
     "execution_count": 126,
     "metadata": {},
     "output_type": "execute_result"
    }
   ],
   "source": [
    "def MCD(x,y):\n",
    "    while(y):\n",
    "        x, y = y, x % y\n",
    "    return x\n",
    "MCD(24,18)"
   ]
  },
  {
   "cell_type": "markdown",
   "id": "3bc91441",
   "metadata": {},
   "source": [
    "## Pregunta 9"
   ]
  },
  {
   "cell_type": "code",
   "execution_count": 151,
   "id": "be114b8a",
   "metadata": {},
   "outputs": [
    {
     "data": {
      "text/plain": [
       "'H V W H   P H Q V D M H   H V W D   F L I U D G R'"
      ]
     },
     "execution_count": 151,
     "metadata": {},
     "output_type": "execute_result"
    }
   ],
   "source": [
    "def cesar(s):\n",
    "    s=s.upper()\n",
    "    c=[]\n",
    "    n=0\n",
    "    w=\"\"\n",
    "    for i in s:\n",
    "        n=ord(i)+3\n",
    "        if n==91:\n",
    "            n=65\n",
    "        elif n==92:\n",
    "            n=66\n",
    "        elif n==93:\n",
    "            n=67\n",
    "        elif n==35:\n",
    "            n=32\n",
    "        \n",
    "        c.append(chr(n))\n",
    "    for i in c:\n",
    "        w+=i+\" \"\n",
    "    w=w.rstrip()\n",
    "    return w\n",
    "cesar(\"este mensaje esta cifrado\")"
   ]
  },
  {
   "cell_type": "markdown",
   "id": "d90f2cfb",
   "metadata": {},
   "source": [
    "## Pregunta 10"
   ]
  },
  {
   "cell_type": "code",
   "execution_count": 164,
   "id": "dd6fe8fb",
   "metadata": {},
   "outputs": [
    {
     "name": "stdout",
     "output_type": "stream",
     "text": [
      "['alejandro', 'jose', 'manuel']\n",
      "['manuel', 'jose', 'alejandro']\n",
      "['jose', 'manuel', 'alejandro']\n"
     ]
    }
   ],
   "source": [
    "l=[\"manuel\", \"jose\",\"alejandro\"]\n",
    "l.sort()\n",
    "print(l)\n",
    "l.sort(reverse = True)\n",
    "print(l)\n",
    "l.sort(key = len)\n",
    "print(l)"
   ]
  }
 ],
 "metadata": {
  "kernelspec": {
   "display_name": "Python 3",
   "language": "python",
   "name": "python3"
  },
  "language_info": {
   "codemirror_mode": {
    "name": "ipython",
    "version": 3
   },
   "file_extension": ".py",
   "mimetype": "text/x-python",
   "name": "python",
   "nbconvert_exporter": "python",
   "pygments_lexer": "ipython3",
   "version": "3.8.8"
  }
 },
 "nbformat": 4,
 "nbformat_minor": 5
}
