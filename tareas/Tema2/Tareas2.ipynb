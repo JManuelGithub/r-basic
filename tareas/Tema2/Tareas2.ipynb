{
 "cells": [
  {
   "cell_type": "markdown",
   "id": "bff00351",
   "metadata": {},
   "source": [
    "Tareas tema 2"
   ]
  },
  {
   "cell_type": "code",
   "execution_count": 10,
   "id": "15745a8d",
   "metadata": {},
   "outputs": [
    {
     "name": "stdout",
     "output_type": "stream",
     "text": [
      "Introduce un numero: 5.5\n",
      "Es positivo\n"
     ]
    }
   ],
   "source": [
    "#Tarea1\n",
    "x=float(input(\"Introduce un numero: \"))\n",
    "if(x>=0):\n",
    "    print(\"Es positivo\")\n",
    "else: print(\"Es negativo\")"
   ]
  },
  {
   "cell_type": "code",
   "execution_count": 13,
   "id": "f088461d",
   "metadata": {},
   "outputs": [
    {
     "name": "stdout",
     "output_type": "stream",
     "text": [
      "Introduce un numero: -5\n",
      "Está en el rango\n"
     ]
    }
   ],
   "source": [
    "#Tarea2\n",
    "x=float(input(\"Introduce un numero: \"))\n",
    "if(x>=-5 and x<=5):\n",
    "    print(\"Está en el rango\")\n",
    "else: print(\"No está en el rango\")"
   ]
  },
  {
   "cell_type": "code",
   "execution_count": 21,
   "id": "1466a2e8",
   "metadata": {},
   "outputs": [
    {
     "name": "stdout",
     "output_type": "stream",
     "text": [
      "Introduce valor de x: -5\n",
      "Introduce valor de y: -5\n",
      "Cuadrante III\n"
     ]
    }
   ],
   "source": [
    "#Tarea3\n",
    "x=float(input(\"Introduce valor de x: \"))\n",
    "y=float(input(\"Introduce valor de y: \"))\n",
    "if x==0 and y==0:\n",
    "    print(\"Origen\")\n",
    "elif x==0 and y!=0:\n",
    "    print(\"Eje vertical\")\n",
    "elif x!=0 and y==0:\n",
    "    print(\"Eje horizontal\")\n",
    "elif x>0:\n",
    "    if y>0:\n",
    "        print(\"Cuadrante I\")\n",
    "    else:\n",
    "        print(\"Cuadrante IV\")\n",
    "elif x<0:\n",
    "    if y>0:\n",
    "        print(\"Cuadrante II\")\n",
    "    else:\n",
    "        print(\"Cuadrante III\")\n",
    "else:\n",
    "    print(\"No se logró determinar posicion\")"
   ]
  },
  {
   "cell_type": "code",
   "execution_count": 24,
   "id": "bd9707de",
   "metadata": {},
   "outputs": [
    {
     "name": "stdout",
     "output_type": "stream",
     "text": [
      "Introduce el dividendo: 5\n",
      "Introduce el divisor: 2\n",
      "El cociente es:  2\n",
      "El residuo es:  1\n"
     ]
    }
   ],
   "source": [
    "#Tarea4\n",
    "x=int(input(\"Introduce el dividendo: \"))\n",
    "y=int(input(\"Introduce el divisor: \"))\n",
    "print(\"El cociente es: \",x//y)\n",
    "print(\"El residuo es: \",x%y)"
   ]
  },
  {
   "cell_type": "code",
   "execution_count": 40,
   "id": "a98f6a98",
   "metadata": {},
   "outputs": [
    {
     "name": "stdout",
     "output_type": "stream",
     "text": [
      "Introduce el numero: 25\n",
      "25  sí es un cuadrado perfecto\n"
     ]
    }
   ],
   "source": [
    "#Tarea 5\n",
    "import math\n",
    "x=int(input(\"Introduce el numero: \"))\n",
    "root=round(math.sqrt(x))\n",
    "if x==root**2:\n",
    "    print(str(x),\" sí es un cuadrado perfecto\")\n",
    "else: print(str(x),\" no es un cuadrado perfecto\")"
   ]
  },
  {
   "cell_type": "code",
   "execution_count": 41,
   "id": "10b2c84c",
   "metadata": {},
   "outputs": [
    {
     "name": "stdout",
     "output_type": "stream",
     "text": [
      "Introduce el Año: 2100\n",
      "El año 2100 no es bisiesto\n"
     ]
    }
   ],
   "source": [
    "#Tarea 6\n",
    "year = int(input(\"Introduce el Año: \"))\n",
    " \n",
    "if year % 4 == 0:\n",
    "  if year % 100 == 0:\n",
    "    if year % 400 == 0:\n",
    "      print(\"El año {} es bisiesto\".format(year))\n",
    "    else: \n",
    "      print(\"El año {} no es bisiesto\".format(year))\n",
    "  else: \n",
    "      print(\"El año {} es bisiesto\".format(year))\n",
    "else: \n",
    "  print(\"El año {} no es bisiesto\".format(year))"
   ]
  },
  {
   "cell_type": "code",
   "execution_count": 42,
   "id": "1579c690",
   "metadata": {},
   "outputs": [
    {
     "name": "stdout",
     "output_type": "stream",
     "text": [
      "Introduce la Casilla: A5\n",
      "Negro\n"
     ]
    }
   ],
   "source": [
    "#Tarea 7\n",
    "casilla = input(\"Introduce la Casilla: \")\n",
    "letras = {\"A\": 1, \"B\": 2, \"C\": 3, \"D\": 4, \"E\": 5, \"F\": 6, \"G\": 7, \"H\": 8}\n",
    "letra = casilla[0]\n",
    "n1 = int(casilla[1])\n",
    "n2 = letras[letra]\n",
    "if (n1 + n2) % 2 == 0:\n",
    "    print(\"Negro\")\n",
    "    \n",
    "else:\n",
    "    print(\"Blanco\")"
   ]
  }
 ],
 "metadata": {
  "kernelspec": {
   "display_name": "Python 3",
   "language": "python",
   "name": "python3"
  },
  "language_info": {
   "codemirror_mode": {
    "name": "ipython",
    "version": 3
   },
   "file_extension": ".py",
   "mimetype": "text/x-python",
   "name": "python",
   "nbconvert_exporter": "python",
   "pygments_lexer": "ipython3",
   "version": "3.8.8"
  }
 },
 "nbformat": 4,
 "nbformat_minor": 5
}
